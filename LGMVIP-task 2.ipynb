{
 "cells": [
  {
   "cell_type": "markdown",
   "metadata": {},
   "source": [
    "# Advanced Level Task 1\n",
    "# Develop A Neural Network That Can Read Handwriting\n",
    "\n",
    "Begin your neural network machine learning project with the MNIST Handwritten Digit Classification Challenge and using Tensorflow and CNN. It has a very user-friendly interface that’s ideal for beginners. Dataset can be seen on MNIST or can find here."
   ]
  },
  {
   "cell_type": "markdown",
   "metadata": {},
   "source": [
    "# Imports\n",
    "\n",
    "Note: \"%matplotlib inline\" is used in order to allow the images to be displayed inside the notebook otherwise it would display a dump of the images location"
   ]
  },
  {
   "cell_type": "code",
   "execution_count": 121,
   "metadata": {},
   "outputs": [],
   "source": [
    "import numpy as np\n",
    "import pandas as pd\n",
    "import tensorflow as tf\n",
    "import matplotlib.pyplot as plt\n",
    "%matplotlib inline\n",
    "from tensorflow.keras.models import Sequential\n",
    "from tensorflow.keras.layers import Dense, Conv2D, Dropout, Flatten, MaxPooling2D"
   ]
  },
  {
   "cell_type": "markdown",
   "metadata": {},
   "source": [
    "# Loading the MNIST dataset from the tensorflow library"
   ]
  },
  {
   "cell_type": "code",
   "execution_count": 122,
   "metadata": {},
   "outputs": [],
   "source": [
    "(X_train, Y_train), (X_test, Y_test) = tf.keras.datasets.mnist.load_data()"
   ]
  },
  {
   "cell_type": "markdown",
   "metadata": {},
   "source": [
    "# Shapes of the traning and testing arrays\n",
    "\n",
    "We can see that the labels are rank one arrays whereas the feature vectors are 3-dimensional"
   ]
  },
  {
   "cell_type": "code",
   "execution_count": 123,
   "metadata": {
    "scrolled": false
   },
   "outputs": [
    {
     "name": "stdout",
     "output_type": "stream",
     "text": [
      "Shape of X_train: (60000, 28, 28)\n",
      "Shape of Y_train: (60000,)\n",
      "Shape of X_test: (10000, 28, 28)\n",
      "Shape of Y_test: (10000,)\n"
     ]
    }
   ],
   "source": [
    "print(f\"Shape of X_train: {X_train.shape}\")\n",
    "print(f\"Shape of Y_train: {Y_train.shape}\")\n",
    "print(f\"Shape of X_test: {X_test.shape}\")\n",
    "print(f\"Shape of Y_test: {Y_test.shape}\")"
   ]
  },
  {
   "cell_type": "markdown",
   "metadata": {},
   "source": [
    "# Displaying a sample\n",
    "\n",
    "We have taken the sample at index number 510 and have displayed the corresponsing image below. The label of the image confirms that it is indeed '1' in the image"
   ]
  },
  {
   "cell_type": "code",
   "execution_count": 124,
   "metadata": {
    "scrolled": true
   },
   "outputs": [
    {
     "name": "stdout",
     "output_type": "stream",
     "text": [
      "Label of image:  1\n"
     ]
    },
    {
     "data": {
      "text/plain": [
       "<matplotlib.image.AxesImage at 0x2a71ed88cd0>"
      ]
     },
     "execution_count": 124,
     "metadata": {},
     "output_type": "execute_result"
    },
    {
     "data": {
      "image/png": "[encoded data removed]",
      "text/plain": [
       "<Figure size 432x288 with 1 Axes>"
      ]
     },
     "metadata": {
      "needs_background": "light"
     },
     "output_type": "display_data"
    }
   ],
   "source": [
    "image_number = 510\n",
    "print(\"Label of image: \", Y_train[image_number])\n",
    "plt.imshow(X_train[image_number], cmap='Greys')"
   ]
  },
  {
   "cell_type": "markdown",
   "metadata": {},
   "source": [
    "# Reshaping the feature vectors\n",
    "\n",
    "We need to reshape the arrays as the tensorflow keras API required 4-dimensional NumPy arrays and the arrays that we have are 3-dimensional."
   ]
  },
  {
   "cell_type": "code",
   "execution_count": 125,
   "metadata": {},
   "outputs": [],
   "source": [
    "X_train = X_train.reshape(X_train.shape[0], 28, 28, 1)\n",
    "X_test = X_test.reshape(X_test.shape[0], 28, 28, 1)"
   ]
  },
  {
   "cell_type": "markdown",
   "metadata": {},
   "source": [
    "# Changing feature types\n",
    "After we have successfully reshaped the features we now need to convert the data into float as we are going to be normalizing the data and we need to be able to obtain values in decimal points."
   ]
  },
  {
   "cell_type": "code",
   "execution_count": 126,
   "metadata": {},
   "outputs": [],
   "source": [
    "image_shape = (28, 28, 1)\n",
    "X_train = X_train.astype('float32')\n",
    "X_test = X_test.astype('float32')"
   ]
  },
  {
   "cell_type": "markdown",
   "metadata": {},
   "source": [
    "# Normalizing the data\n",
    "After the conversion of the features into float we now need to normalize our vectors as it will allow our neural network to converge faster and work more efficiently."
   ]
  },
  {
   "cell_type": "code",
   "execution_count": 127,
   "metadata": {},
   "outputs": [],
   "source": [
    "X_train /= 255\n",
    "X_test /= 255"
   ]
  },
  {
   "cell_type": "markdown",
   "metadata": {},
   "source": [
    "# Printing the shapes after transformations"
   ]
  },
  {
   "cell_type": "code",
   "execution_count": 128,
   "metadata": {},
   "outputs": [
    {
     "name": "stdout",
     "output_type": "stream",
     "text": [
      "X_train shape: (60000, 28, 28, 1)\n",
      "X_train has 60000 images\n",
      "X_test has 10000 images\n"
     ]
    }
   ],
   "source": [
    "print(\"X_train shape:\", X_train.shape)\n",
    "print(f\"X_train has {X_train.shape[0]} images\")\n",
    "print(f\"X_test has {X_test.shape[0]} images\")"
   ]
  },
  {
   "cell_type": "markdown",
   "metadata": {},
   "source": [
    "# Building the Convolutional Neural Network(CNN) Model\n",
    "\n",
    "We are going to be building a sequential so we will save the sequential model into the variable \"cnn\".\n",
    "We are going to be using the following layers to build our Convolutional Neural Network:\n",
    "1. Convolutional Layer (Conv2D): Concolutional Layer performs the convolution operation which is used to extract the feature maps\n",
    "2. MaxPooling Layer: Max Pooling allows us to reduce the spatial size of the image by disregarding the unnecessary features\n",
    "3. Flatten Layer: This layer just unravels the data from a 2D array to a 1D array\n",
    "4. Dense Layer: This is a fully connected layer in which all the hidden units in one layer are connected to all the hidden units in the next layer\n",
    "5. Dropout Layer: It allows us to prevent iverfitting by removing output from some of the neurons"
   ]
  },
  {
   "cell_type": "code",
   "execution_count": 129,
   "metadata": {},
   "outputs": [],
   "source": [
    "cnn = Sequential()\n",
    "cnn.add(Conv2D(28, kernel_size=(4,4), input_shape=image_shape))\n",
    "cnn.add(MaxPooling2D(pool_size=(3, 3)))\n",
    "cnn.add(Flatten())\n",
    "cnn.add(Dense(128, activation=tf.nn.relu))\n",
    "cnn.add(Dropout(0.2))\n",
    "cnn.add(Dense(10,activation=tf.nn.softmax))"
   ]
  },
  {
   "cell_type": "markdown",
   "metadata": {},
   "source": [
    "# Compiling the Neural Network\n",
    "\n",
    "We have used \"adam\" optimizer as it performs back-propagation very efficiently and converges pretty quickly, we have also defined the loss function which is \"sparse_categorical_crossentropy\" and we have asked for \"accuracy\" as a scoring metric.\n",
    "\n",
    "**Note: Not showing the training process due to time constraints.**"
   ]
  },
  {
   "cell_type": "code",
   "execution_count": 45,
   "metadata": {
    "scrolled": true
   },
   "outputs": [
    {
     "name": "stdout",
     "output_type": "stream",
     "text": [
      "Epoch 1/15\n",
      "1875/1875 [==============================] - 42s 21ms/step - loss: 0.3707 - accuracy: 0.8914\n",
      "Epoch 2/15\n",
      "1875/1875 [==============================] - 37s 20ms/step - loss: 0.0688 - accuracy: 0.9796\n",
      "Epoch 3/15\n",
      "1875/1875 [==============================] - 39s 21ms/step - loss: 0.0461 - accuracy: 0.9860\n",
      "Epoch 4/15\n",
      "1875/1875 [==============================] - 38s 20ms/step - loss: 0.0353 - accuracy: 0.9890\n",
      "Epoch 5/15\n",
      "1875/1875 [==============================] - 38s 20ms/step - loss: 0.0245 - accuracy: 0.9919\n",
      "Epoch 6/15\n",
      "1875/1875 [==============================] - 39s 21ms/step - loss: 0.0228 - accuracy: 0.99257s - loss: 0.0223 - accuracy: 0.99 - ETA: 7s - loss: 0.0223 - accuracy: 0.99 - ETA: 7s - l - E\n",
      "Epoch 7/15\n",
      "1875/1875 [==============================] - 37s 19ms/step - loss: 0.0197 - accuracy: 0.99320s - los\n",
      "Epoch 8/15\n",
      "1875/1875 [==============================] - 38s 20ms/step - loss: 0.0187 - accuracy: 0.9934\n",
      "Epoch 9/15\n",
      "1875/1875 [==============================] - 38s 20ms/step - loss: 0.0153 - accuracy: 0.9944\n",
      "Epoch 10/15\n",
      "1875/1875 [==============================] - 38s 20ms/step - loss: 0.0134 - accuracy: 0.9954\n",
      "Epoch 11/15\n",
      "1875/1875 [==============================] - 36s 19ms/step - loss: 0.0136 - accuracy: 0.99500s - l\n",
      "Epoch 12/15\n",
      "1875/1875 [==============================] - 39s 21ms/step - loss: 0.0109 - accuracy: 0.9960\n",
      "Epoch 13/15\n",
      "1875/1875 [==============================] - 38s 20ms/step - loss: 0.0123 - accuracy: 0.9957\n",
      "Epoch 14/15\n",
      "1875/1875 [==============================] - 38s 20ms/step - loss: 0.0114 - accuracy: 0.9961\n",
      "Epoch 15/15\n",
      "1875/1875 [==============================] - 38s 20ms/step - loss: 0.0101 - accuracy: 0.99702s - loss: 0.0100 - ac - ETA: 1s - loss: 0.0100 - ac\n"
     ]
    },
    {
     "data": {
      "text/plain": [
       "<tensorflow.python.keras.callbacks.History at 0x2a71900ac70>"
      ]
     },
     "execution_count": 45,
     "metadata": {},
     "output_type": "execute_result"
    }
   ],
   "source": [
    "cnn.compile(optimizer='adam', \n",
    "              loss='sparse_categorical_crossentropy', \n",
    "              metrics=['accuracy'])\n",
    "cnn.fit(X_train, Y_train, epochs=15)"
   ]
  },
  {
   "cell_type": "markdown",
   "metadata": {},
   "source": [
    "# Evaluating the model"
   ]
  },
  {
   "cell_type": "code",
   "execution_count": 133,
   "metadata": {
    "scrolled": false
   },
   "outputs": [
    {
     "name": "stdout",
     "output_type": "stream",
     "text": [
      "313/313 [==============================] - 4s 12ms/step - loss: 0.0615 - accuracy: 0.9835\n",
      "Accuracy: 98.35000038146973%\n"
     ]
    }
   ],
   "source": [
    "accuracy = model.evaluate(X_test, Y_test)\n",
    "print(f\"Accuracy: {accuracy[1]*100}%\")"
   ]
  },
  {
   "cell_type": "markdown",
   "metadata": {},
   "source": [
    "# Displaying image along with its predicted label"
   ]
  },
  {
   "cell_type": "code",
   "execution_count": 134,
   "metadata": {
    "scrolled": true
   },
   "outputs": [
    {
     "name": "stdout",
     "output_type": "stream",
     "text": [
      "Predicted Label: 7\n"
     ]
    },
    {
     "data": {
      "image/png": "[encoded data removed]",
      "text/plain": [
       "<Figure size 432x288 with 1 Axes>"
      ]
     },
     "metadata": {
      "needs_background": "light"
     },
     "output_type": "display_data"
    }
   ],
   "source": [
    "image_number = 1100\n",
    "plt.imshow(X_test[image_number].reshape(28, 28),cmap='Greys')\n",
    "Y_pred = cnn.predict(X_test[image_number].reshape(1, 28, 28, 1))\n",
    "print(f\"Predicted Label: {Y_pred.argmax()}\")"
   ]
  },
  {
   "cell_type": "code",
   "execution_count": null,
   "metadata": {},
   "outputs": [],
   "source": []
  }
 ],
 "metadata": {
  "kernelspec": {
   "display_name": "Python 3",
   "language": "python",
   "name": "python3"
  },
  "language_info": {
   "codemirror_mode": {
    "name": "ipython",
    "version": 3
   },
   "file_extension": ".py",
   "mimetype": "text/x-python",
   "name": "python",
   "nbconvert_exporter": "python",
   "pygments_lexer": "ipython3",
   "version": "3.8.3"
  }
 },
 "nbformat": 4,
 "nbformat_minor": 4
}
